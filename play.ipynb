{
 "cells": [
  {
   "cell_type": "code",
   "execution_count": 1,
   "metadata": {},
   "outputs": [
    {
     "name": "stderr",
     "output_type": "stream",
     "text": [
      "/home/linux/anaconda3/envs/colpali/lib/python3.11/site-packages/tqdm/auto.py:21: TqdmWarning: IProgress not found. Please update jupyter and ipywidgets. See https://ipywidgets.readthedocs.io/en/stable/user_install.html\n",
      "  from .autonotebook import tqdm as notebook_tqdm\n",
      "Loading checkpoint shards: 100%|██████████| 2/2 [00:12<00:00,  6.18s/it]\n",
      "Using a slow image processor as `use_fast` is unset and a slow processor was saved with this model. `use_fast=True` will be the default behavior in v4.52, even if the model was saved with a slow processor. This will result in minor differences in outputs. You'll still be able to use a slow processor with `use_fast=False`.\n"
     ]
    }
   ],
   "source": [
    "from utils.image_paths import get_image_paths, get_new_folders\n",
    "from service.colpali_server import ColPaliService\n",
    "from pymilvus import MilvusClient\n",
    "from service.milvus_retriever import MilvusColbertRetriever\n",
    "\n",
    "model_dir = \"/home/linux/yyj/colpali/colpali-v1.2-hf\"  # 替换为实际的模型名称\n",
    "device = \"cuda:0\"\n",
    "milvus_uri = \"http://localhost:19530\"  # 替换为实际的Milvus服务器地址\n",
    "collection_name = \"colpali_hf\"\n",
    "image_dir = \"./test_pages\"  # 替换为实际的图片目录\n",
    "manifest_file = \"./manifest.json\"\n",
    "\n",
    "# 加载模型\n",
    "colpali_service = ColPaliService(model_dir=model_dir, device=device)\n",
    "\n"
   ]
  },
  {
   "cell_type": "code",
   "execution_count": 4,
   "metadata": {},
   "outputs": [
    {
     "name": "stdout",
     "output_type": "stream",
     "text": [
      "Find 45 files in directory './test_pages' and its subdirectories\n"
     ]
    },
    {
     "name": "stderr",
     "output_type": "stream",
     "text": [
      "  0%|          | 0/18 [00:00<?, ?it/s]"
     ]
    },
    {
     "name": "stderr",
     "output_type": "stream",
     "text": [
      "100%|██████████| 18/18 [00:20<00:00,  1.16s/it]\n"
     ]
    }
   ],
   "source": [
    "# 处理图片\n",
    "new_folders, _, previous_number = get_new_folders(image_dir, manifest_file)\n",
    "image_paths = get_image_paths(new_folders)\n",
    "ds = colpali_service.process_images(image_paths)\n",
    "\n",
    "# 初始化Milvus客户端和检索器\n",
    "client = MilvusClient(uri=milvus_uri)\n",
    "retriever = MilvusColbertRetriever(collection_name=collection_name, milvus_client=client)\n",
    "\n",
    "# 创建集合和索引\n",
    "if not client.has_collection(collection_name=collection_name):\n",
    "    retriever.create_collection()\n",
    "    retriever.create_index()\n",
    "\n",
    "# 插入数据\n",
    "for i in range(len(image_paths)):\n",
    "    doc_id = i + previous_number\n",
    "    data = {\n",
    "        \"colbert_vecs\": ds[i].float().cpu().numpy(),\n",
    "        \"doc_id\": doc_id,\n",
    "        \"filepath\": image_paths[i],\n",
    "    }\n",
    "    retriever.insert(data)"
   ]
  },
  {
   "cell_type": "code",
   "execution_count": 9,
   "metadata": {},
   "outputs": [],
   "source": [
    "queries = [\n",
    "    \"阿姆斯特丹5月气温怎么样\",\n",
    "    \"阿姆斯特丹12月降水量怎么样\",\n",
    "]\n",
    "qs = colpali_service.process_queries(queries)"
   ]
  },
  {
   "cell_type": "code",
   "execution_count": 10,
   "metadata": {},
   "outputs": [
    {
     "name": "stdout",
     "output_type": "stream",
     "text": [
      "2\n"
     ]
    },
    {
     "data": {
      "text/plain": [
       "torch.Size([23, 128])"
      ]
     },
     "execution_count": 10,
     "metadata": {},
     "output_type": "execute_result"
    }
   ],
   "source": [
    "print(len(qs))\n",
    "qs[0].shape"
   ]
  },
  {
   "cell_type": "code",
   "execution_count": 11,
   "metadata": {},
   "outputs": [
    {
     "name": "stdout",
     "output_type": "stream",
     "text": [
      "4\n",
      "4\n"
     ]
    }
   ],
   "source": [
    "for query in qs:\n",
    "    query = query.float().cpu().numpy()\n",
    "    result = retriever.search(query, topk=1)\n",
    "    print(result[0][1])"
   ]
  }
 ],
 "metadata": {
  "kernelspec": {
   "display_name": "colpali",
   "language": "python",
   "name": "python3"
  },
  "language_info": {
   "codemirror_mode": {
    "name": "ipython",
    "version": 3
   },
   "file_extension": ".py",
   "mimetype": "text/x-python",
   "name": "python",
   "nbconvert_exporter": "python",
   "pygments_lexer": "ipython3",
   "version": "3.11.11"
  }
 },
 "nbformat": 4,
 "nbformat_minor": 2
}
